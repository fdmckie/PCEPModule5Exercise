{
 "cells": [
  {
   "cell_type": "markdown",
   "metadata": {},
   "source": [
    "1. Round 4.5667 to the nearest hundreth using a build-in function, round()."
   ]
  },
  {
   "cell_type": "code",
   "execution_count": 1,
   "metadata": {},
   "outputs": [
    {
     "name": "stdout",
     "output_type": "stream",
     "text": [
      "4.57\n"
     ]
    }
   ],
   "source": [
    "#store a float number into a variable\n",
    "number = 4.5667\n",
    "\n",
    "#use the round built-in function to round off the float number to 2 decimal places\n",
    "#print/display the result\n",
    "print(round(number, 2))"
   ]
  },
  {
   "cell_type": "markdown",
   "metadata": {},
   "source": [
    "2. Convert \"657\" to an integer data type"
   ]
  },
  {
   "cell_type": "code",
   "execution_count": 2,
   "metadata": {},
   "outputs": [
    {
     "name": "stdout",
     "output_type": "stream",
     "text": [
      "657\n"
     ]
    }
   ],
   "source": [
    "#use the int built-in function to convert the string into an integer\n",
    "#print/display the integer\n",
    "\n",
    "print(int(\"657\"))"
   ]
  },
  {
   "cell_type": "markdown",
   "metadata": {},
   "source": [
    "3.\n",
    "Write a program to get two numbers from a user. Then, create a secret code where a code consists of 6 numbers and each number is randomly generated number between two numbers from a user. "
   ]
  },
  {
   "cell_type": "code",
   "execution_count": 28,
   "metadata": {},
   "outputs": [
    {
     "name": "stdout",
     "output_type": "stream",
     "text": [
      "Enter an integer:\n",
      ">1\n",
      "Enter another integer that is larger than the first entry:\n",
      ">100\n",
      "\n",
      "18\n",
      "5\n",
      "81\n",
      "4\n",
      "80\n",
      "89\n",
      "\n",
      "18\n",
      "5\n",
      "81\n",
      "4\n",
      "80\n",
      "89\n",
      "\n",
      "The secret code is 1858148089\n",
      "The sercet code is 1858148089\n"
     ]
    }
   ],
   "source": [
    "#import the random library\n",
    "import random as rand\n",
    "\n",
    "prompt = \">\"\n",
    "\n",
    "#ask user to enter an integer\n",
    "print(\"Enter an integer:\")\n",
    "\n",
    "#use the int built-in function to convert the entry from a string into a integer value\n",
    "#and store the value into a variable\n",
    "integer1 = int(input(prompt))\n",
    "\n",
    "#ask the user to enter another integer (should be larger than the 1st entry)\n",
    "print(\"Enter another integer that is larger than the first entry:\")\n",
    "\n",
    "#use the int built-in function to convert the entry from a string into a integer value\n",
    "#and store the value into a variable\n",
    "integer2 = int(input(prompt))\n",
    "\n",
    "# generate 6 random numbers within the range of the 2 integers, entered by the user,\n",
    "# using the randint built-in function and store them into variables\n",
    "\n",
    "x1 = rand.randint(integer1, integer2)\n",
    "x2 = rand.randint(integer1, integer2)\n",
    "x3 = rand.randint(integer1, integer2)\n",
    "x4 = rand.randint(integer1, integer2)\n",
    "x5 = rand.randint(integer1, integer2)\n",
    "x6 = rand.randint(integer1, integer2)\n",
    "\n",
    "print()\n",
    "\n",
    "#print/display the 6 randomly generated integers\n",
    "print(x1)\n",
    "print(x2)\n",
    "print(x3)\n",
    "print(x4)\n",
    "print(x5)\n",
    "print(x6)\n",
    "\n",
    "#use the str built-in function to convert the randomly generated integers into string values\n",
    "#store the converted values into variables\n",
    "x1_string = str(x1)\n",
    "x2_string = str(x2)\n",
    "x3_string = str(x3)\n",
    "x4_string = str(x4)\n",
    "x5_string = str(x5)\n",
    "x6_string = str(x6)\n",
    "\n",
    "print()\n",
    "\n",
    "#print/display the string values\n",
    "print(x1_string)\n",
    "print(x2_string)\n",
    "print(x3_string)\n",
    "print(x4_string)\n",
    "print(x5_string)\n",
    "print(x6_string)\n",
    "\n",
    "#create the secret code for the string values using concatenation\n",
    "secret_code = x1_string + x2_string + x3_string + x4_string + x5_string + x6_string \n",
    "\n",
    "print()\n",
    "\n",
    "#print the secret code using the string values\n",
    "print(f\"The secret code is {secret_code}\")\n",
    "\n",
    "#print the secret code using the integer values\n",
    "print(f\"The sercet code is {x1}{x2}{x3}{x4}{x5}{x6}\")"
   ]
  },
  {
   "cell_type": "markdown",
   "metadata": {},
   "source": [
    "4.\n",
    "Write a program to center align below text where number of characters per line is 40:\n",
    "\n",
    "    Hickory, dickory, dock,\n",
    "    The mouse ran up the clock.\n",
    "    The clock struck one,\n",
    "    The mouse ran down,\n",
    "    Hickory, dickory, dock\n",
    "\n",
    "<b>Do not use string's center method! </b>"
   ]
  },
  {
   "cell_type": "code",
   "execution_count": 25,
   "metadata": {},
   "outputs": [],
   "source": [
    "#place strings into variables\n",
    "line1 = \"Hickory, dickory, dock,\"\n",
    "line2 = \"The mouse ran up the clock.\"\n",
    "line3 = \"The clock struck one,\"\n",
    "line4 = \"The mouse ran down,\"\n",
    "line5 = \"Hickory, dickory, dock\"\n",
    "\n"
   ]
  },
  {
   "cell_type": "code",
   "execution_count": 26,
   "metadata": {},
   "outputs": [
    {
     "name": "stdout",
     "output_type": "stream",
     "text": [
      "Hickory, dickory, dock,\n",
      "The mouse ran up the clock.\n",
      "The clock struck one,\n",
      "The mouse ran down,\n",
      "Hickory, dickory, dock\n",
      "23\n",
      "27\n",
      "21\n",
      "19\n",
      "22\n"
     ]
    }
   ],
   "source": [
    "#use the strip built-in function to remove unnecessary spaces to the left and right of the strings\n",
    "line1_strip = line1.strip()\n",
    "line2_strip = line2.strip()\n",
    "line3_strip = line3.strip()\n",
    "line4_strip = line4.strip()\n",
    "line5_strip = line5.strip()\n",
    "\n",
    "#print each string after using the strip built-in function\n",
    "print(line1_strip)\n",
    "print(line2_strip)\n",
    "print(line3_strip)\n",
    "print(line4_strip)\n",
    "print(line5_strip)\n",
    "\n",
    "#use the len built-in function to get the length of the strings\n",
    "line1_length = len(line1_strip)\n",
    "line2_length = len(line2_strip)\n",
    "line3_length = len(line3_strip)\n",
    "line4_length = len(line4_strip)\n",
    "line5_length = len(line5_strip)\n",
    "\n",
    "#print the length values for each string\n",
    "print(line1_length)\n",
    "print(line2_length)\n",
    "print(line3_length)\n",
    "print(line4_length)\n",
    "print(line5_length)"
   ]
  },
  {
   "cell_type": "code",
   "execution_count": 27,
   "metadata": {},
   "outputs": [
    {
     "name": "stdout",
     "output_type": "stream",
     "text": [
      "8\n",
      "6\n",
      "9\n",
      "10\n",
      "9\n"
     ]
    }
   ],
   "source": [
    "#compute the number of spaces needed to center each string, based on the 40 characters per line criteria\n",
    "#determine the left starting position of string\n",
    "\n",
    "line1_space_value = (40 - line1_length) // 2\n",
    "line2_space_value = (40 - line2_length) // 2\n",
    "line3_space_value = (40 - line3_length) // 2\n",
    "line4_space_value = (40 - line4_length) // 2\n",
    "line5_space_value = (40 - line5_length) // 2\n",
    "\n",
    "#print the spacing values for each string\n",
    "print(line1_space_value)\n",
    "print(line2_space_value)\n",
    "print(line3_space_value)\n",
    "print(line4_space_value)\n",
    "print(line5_space_value)\n",
    "\n",
    "#store the starting spaces (from the left) for each string into variables\n",
    "line1_space = \" \" * line1_space_value\n",
    "line2_space = \" \" * line2_space_value\n",
    "line3_space = \" \" * line3_space_value\n",
    "line4_space = \" \" * line4_space_value\n",
    "line5_space = \" \" * line5_space_value\n"
   ]
  },
  {
   "cell_type": "code",
   "execution_count": 24,
   "metadata": {},
   "outputs": [
    {
     "name": "stdout",
     "output_type": "stream",
     "text": [
      "1234567890123456789012345678901234567890\n",
      "         Hickory, dickory, dock,\n",
      "       The mouse ran up the clock.\n",
      "          The clock struck one,\n",
      "           The mouse ran down,\n",
      "          Hickory, dickory, dock\n"
     ]
    }
   ],
   "source": [
    "#this string will be a guide for the 40-character per line requirement\n",
    "print(\"1234567890123456789012345678901234567890\")\n",
    "\n",
    "#print each string (center-justified)\n",
    "print(f\"{line1_space} {line1_strip}\")\n",
    "print(f\"{line2_space} {line2_strip}\")\n",
    "print(f\"{line3_space} {line3_strip}\")\n",
    "print(f\"{line4_space} {line4_strip}\")\n",
    "print(f\"{line5_space} {line5_strip}\")"
   ]
  },
  {
   "cell_type": "markdown",
   "metadata": {},
   "source": [
    "5. Write a function to calculate the miles per gallon.\n",
    "Get a miles driven and gallons used from a user and call your function to calculate the miles per gallon. "
   ]
  },
  {
   "cell_type": "code",
   "execution_count": 29,
   "metadata": {},
   "outputs": [],
   "source": [
    "#create a function that will compute miles per gallon                   \n",
    "\n",
    "def miles_per_gallon(miles, gallon) :\n",
    "\n",
    "    #based on user entry, compute miles per gallon\n",
    "    mpg = miles/gallon\n",
    "    \n",
    "    #use formatted print to display the result\n",
    "    #the result will be rounded off to 2 decimal places\n",
    "    print(f\"Miles per gallon: {mpg:.2f}\")\n",
    "    "
   ]
  },
  {
   "cell_type": "code",
   "execution_count": 30,
   "metadata": {},
   "outputs": [
    {
     "name": "stdout",
     "output_type": "stream",
     "text": [
      "Enter miles driven:\n",
      ">400\n",
      "Enter gallons used:\n",
      ">17\n",
      "Miles per gallon: 23.53\n"
     ]
    }
   ],
   "source": [
    "prompt = \">\"\n",
    "\n",
    "#ask user to enter number of miles driven\n",
    "print(\"Enter miles driven:\")\n",
    "\n",
    "#use the float built-in function to convert the entry from a string into a float value\n",
    "#and store the value into a variable\n",
    "miles = float(input(prompt))\n",
    "\n",
    "#ask user to enter number of gallons used\n",
    "print(\"Enter gallons used:\")\n",
    "\n",
    "#use the float built-in function to convert the entry from a string into a float value\n",
    "#and store the value into a variable\n",
    "gallon = float(input(prompt))\n",
    "\n",
    "#pass the values to the function called miles_per_gallon where the calculation(s) will be performed\n",
    "miles_per_gallon(miles, gallon)"
   ]
  },
  {
   "cell_type": "code",
   "execution_count": null,
   "metadata": {},
   "outputs": [],
   "source": []
  }
 ],
 "metadata": {
  "kernelspec": {
   "display_name": "Python 3",
   "language": "python",
   "name": "python3"
  },
  "language_info": {
   "codemirror_mode": {
    "name": "ipython",
    "version": 3
   },
   "file_extension": ".py",
   "mimetype": "text/x-python",
   "name": "python",
   "nbconvert_exporter": "python",
   "pygments_lexer": "ipython3",
   "version": "3.8.8"
  }
 },
 "nbformat": 4,
 "nbformat_minor": 4
}
